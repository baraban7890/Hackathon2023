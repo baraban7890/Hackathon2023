{
 "cells": [
  {
   "cell_type": "code",
   "execution_count": 1,
   "id": "ee2c122b",
   "metadata": {},
   "outputs": [],
   "source": [
    "import pandas as pd\n",
    "import torch\n",
    "import numpy as np\n",
    "from sklearn.preprocessing import StandardScaler\n",
    "from sklearn.impute import SimpleImputer\n",
    "from sklearn.model_selection import train_test_split\n",
    "import matplotlib.pyplot as plt\n",
    "\n",
    "from sklearn.metrics import mean_squared_error, r2_score\n",
    "from sklearn.linear_model import LinearRegression\n",
    "\n"
   ]
  },
  {
   "cell_type": "code",
   "execution_count": 2,
   "id": "4be73fb6",
   "metadata": {},
   "outputs": [],
   "source": [
    "df = pd.read_csv(\"Life Expectancy Data.csv\")"
   ]
  },
  {
   "cell_type": "code",
   "execution_count": 3,
   "id": "af45fda1",
   "metadata": {},
   "outputs": [],
   "source": [
    "df = df.dropna()"
   ]
  },
  {
   "cell_type": "code",
   "execution_count": 4,
   "id": "171e81f9",
   "metadata": {
    "scrolled": true
   },
   "outputs": [],
   "source": [
    "Xcols = df[['Adult Mortality',\n",
    "       'infant deaths', 'Alcohol', 'percentage expenditure', 'Hepatitis B',\n",
    "       'Measles ', ' BMI ', 'under-five deaths ', 'Polio', 'Total expenditure',\n",
    "       'Diphtheria ', ' HIV/AIDS', 'GDP', 'Population',\n",
    "       ' thinness  1-19 years', ' thinness 5-9 years',\n",
    "       'Income composition of resources', 'Schooling']]\n",
    "\n",
    "\n",
    "Ycols = df['Life expectancy ']"
   ]
  },
  {
   "cell_type": "code",
   "execution_count": 5,
   "id": "4964b5dc",
   "metadata": {},
   "outputs": [],
   "source": [
    "\n",
    "# Handle missing values\n",
    "imputer = SimpleImputer(strategy='median')\n",
    "X = imputer.fit_transform(Xcols)\n",
    "\n",
    "# Normalize and scale the features\n",
    "scaler = StandardScaler()\n",
    "X = scaler.fit_transform(Xcols)\n",
    "\n",
    "# Split the dataset into training and testing sets\n",
    "X_train, X_test, y_train, y_test = train_test_split(X, Ycols, test_size=0.2, random_state=42)"
   ]
  },
  {
   "cell_type": "code",
   "execution_count": 6,
   "id": "b8318f0d",
   "metadata": {},
   "outputs": [],
   "source": [
    "# Create a linear regression model\n",
    "model = LinearRegression()"
   ]
  },
  {
   "cell_type": "code",
   "execution_count": 7,
   "id": "01f41e33",
   "metadata": {},
   "outputs": [
    {
     "data": {
      "text/plain": [
       "LinearRegression()"
      ]
     },
     "execution_count": 7,
     "metadata": {},
     "output_type": "execute_result"
    }
   ],
   "source": [
    "# Train the model on the training dataset\n",
    "model.fit(X_train, y_train)"
   ]
  },
  {
   "cell_type": "code",
   "execution_count": 8,
   "id": "fcd57aa3",
   "metadata": {},
   "outputs": [
    {
     "name": "stdout",
     "output_type": "stream",
     "text": [
      "Mean Squared Error:  13.53803733102842\n",
      "R-squared Score:  0.8093837827566185\n"
     ]
    }
   ],
   "source": [
    "# Evaluate the model on the testing dataset\n",
    "y_pred = model.predict(X_test)\n",
    "mse = mean_squared_error(y_test, y_pred)\n",
    "r2 = r2_score(y_test, y_pred)\n",
    "\n",
    "print('Mean Squared Error: ', mse)\n",
    "print('R-squared Score: ', r2)"
   ]
  },
  {
   "cell_type": "code",
   "execution_count": 9,
   "id": "d34458b9",
   "metadata": {},
   "outputs": [
    {
     "name": "stdout",
     "output_type": "stream",
     "text": [
      "Adult Mortality: -2.097294112137923\n",
      "infant deaths: 11.726213641630705\n",
      "Alcohol: -0.3190604576874548\n",
      "percentage expenditure: 0.7603476763163625\n",
      "Hepatitis B: -0.19535272322289174\n",
      "Measles : -0.07870355990989096\n",
      " BMI : 0.524590084901\n",
      "under-five deaths : -11.92990079934738\n",
      "Polio: 0.21036717200309984\n",
      "Total expenditure: 0.21883310861760102\n",
      "Diphtheria : 0.30273154981656153\n",
      " HIV/AIDS: -2.6091293038503425\n",
      "GDP: -0.001646463858151946\n",
      "Population: 0.04299785306474557\n",
      " thinness  1-19 years: -0.19443167357279867\n",
      " thinness 5-9 years: -0.22536316923927144\n",
      "Income composition of resources: 1.6287778513141948\n",
      "Schooling: 2.7034783348127465\n"
     ]
    }
   ],
   "source": [
    "for i, feature in enumerate(Xcols.columns):\n",
    "    print(f'{feature}: {model.coef_[i]}')"
   ]
  },
  {
   "cell_type": "code",
   "execution_count": 10,
   "id": "82087302",
   "metadata": {},
   "outputs": [
    {
     "data": {
      "image/png": "[encoded data removed]",
      "text/plain": [
       "<Figure size 432x288 with 1 Axes>"
      ]
     },
     "metadata": {
      "needs_background": "light"
     },
     "output_type": "display_data"
    }
   ],
   "source": [
    "plt.barh(Xcols.columns, model.coef_)\n",
    "plt.xlabel('Weight')\n",
    "plt.ylabel(\"Feature\")\n",
    "plt.show()"
   ]
  },
  {
   "cell_type": "code",
   "execution_count": 11,
   "id": "080df683",
   "metadata": {},
   "outputs": [],
   "source": [
    "x = torch.tensor(X_train)\n",
    "x = x.to(torch.float32)\n",
    "y = torch.tensor(y_train.values)\n",
    "y = y.to(torch.float32)\n",
    "td = torch.utils.data.TensorDataset(x, y)"
   ]
  },
  {
   "cell_type": "code",
   "execution_count": 12,
   "id": "24acaa72",
   "metadata": {},
   "outputs": [
    {
     "name": "stderr",
     "output_type": "stream",
     "text": [
      "/Users/joemahoney/opt/anaconda3/lib/python3.9/site-packages/torch/nn/modules/loss.py:536: UserWarning: Using a target size (torch.Size([10])) that is different to the input size (torch.Size([10, 1])). This will likely lead to incorrect results due to broadcasting. Please ensure they have the same size.\n",
      "  return F.mse_loss(input, target, reduction=self.reduction)\n",
      "/Users/joemahoney/opt/anaconda3/lib/python3.9/site-packages/torch/nn/modules/loss.py:536: UserWarning: Using a target size (torch.Size([9])) that is different to the input size (torch.Size([9, 1])). This will likely lead to incorrect results due to broadcasting. Please ensure they have the same size.\n",
      "  return F.mse_loss(input, target, reduction=self.reduction)\n",
      "/Users/joemahoney/opt/anaconda3/lib/python3.9/site-packages/torch/nn/modules/loss.py:536: UserWarning: Using a target size (torch.Size([1319, 1])) that is different to the input size (torch.Size([1319])). This will likely lead to incorrect results due to broadcasting. Please ensure they have the same size.\n",
      "  return F.mse_loss(input, target, reduction=self.reduction)\n"
     ]
    },
    {
     "name": "stdout",
     "output_type": "stream",
     "text": [
      "0 tensor(89.1172, grad_fn=<MseLossBackward0>)\n",
      "1 tensor(1194.7787, grad_fn=<MseLossBackward0>)\n",
      "2 tensor(473.4421, grad_fn=<MseLossBackward0>)\n",
      "3 tensor(615.5065, grad_fn=<MseLossBackward0>)\n",
      "4 tensor(620.8213, grad_fn=<MseLossBackward0>)\n",
      "5 tensor(612.1671, grad_fn=<MseLossBackward0>)\n",
      "6 tensor(682.2482, grad_fn=<MseLossBackward0>)\n",
      "7 tensor(609.1402, grad_fn=<MseLossBackward0>)\n",
      "8 tensor(611.3426, grad_fn=<MseLossBackward0>)\n",
      "9 tensor(610.9789, grad_fn=<MseLossBackward0>)\n",
      "10 tensor(666.2082, grad_fn=<MseLossBackward0>)\n",
      "11 tensor(668.0471, grad_fn=<MseLossBackward0>)\n",
      "12 tensor(616.3881, grad_fn=<MseLossBackward0>)\n",
      "13 tensor(606.6595, grad_fn=<MseLossBackward0>)\n",
      "14 tensor(617.1664, grad_fn=<MseLossBackward0>)\n",
      "15 tensor(597.4505, grad_fn=<MseLossBackward0>)\n",
      "16 tensor(612.7500, grad_fn=<MseLossBackward0>)\n",
      "17 tensor(598.5725, grad_fn=<MseLossBackward0>)\n",
      "18 tensor(607.5682, grad_fn=<MseLossBackward0>)\n",
      "19 tensor(606.4135, grad_fn=<MseLossBackward0>)\n",
      "20 tensor(616.8484, grad_fn=<MseLossBackward0>)\n",
      "21 tensor(598.2593, grad_fn=<MseLossBackward0>)\n",
      "22 tensor(731.0728, grad_fn=<MseLossBackward0>)\n",
      "23 tensor(640.2084, grad_fn=<MseLossBackward0>)\n",
      "24 tensor(584.0999, grad_fn=<MseLossBackward0>)\n",
      "25 tensor(633.4634, grad_fn=<MseLossBackward0>)\n",
      "26 tensor(604.1906, grad_fn=<MseLossBackward0>)\n",
      "27 tensor(632.5389, grad_fn=<MseLossBackward0>)\n",
      "28 tensor(596.2092, grad_fn=<MseLossBackward0>)\n",
      "29 tensor(615.6003, grad_fn=<MseLossBackward0>)\n",
      "30 tensor(587.1388, grad_fn=<MseLossBackward0>)\n",
      "31 tensor(638.1646, grad_fn=<MseLossBackward0>)\n",
      "32 tensor(624.3172, grad_fn=<MseLossBackward0>)\n",
      "33 tensor(627.6272, grad_fn=<MseLossBackward0>)\n",
      "34 tensor(612.3642, grad_fn=<MseLossBackward0>)\n",
      "35 tensor(602.2574, grad_fn=<MseLossBackward0>)\n",
      "36 tensor(717.4878, grad_fn=<MseLossBackward0>)\n",
      "37 tensor(619.0486, grad_fn=<MseLossBackward0>)\n",
      "38 tensor(615.0657, grad_fn=<MseLossBackward0>)\n",
      "39 tensor(668.0852, grad_fn=<MseLossBackward0>)\n",
      "40 tensor(572.9445, grad_fn=<MseLossBackward0>)\n",
      "41 tensor(628.9388, grad_fn=<MseLossBackward0>)\n",
      "42 tensor(579.3441, grad_fn=<MseLossBackward0>)\n",
      "43 tensor(641.8229, grad_fn=<MseLossBackward0>)\n",
      "44 tensor(601.9197, grad_fn=<MseLossBackward0>)\n",
      "45 tensor(599.4373, grad_fn=<MseLossBackward0>)\n",
      "46 tensor(647.4427, grad_fn=<MseLossBackward0>)\n",
      "47 tensor(593.8773, grad_fn=<MseLossBackward0>)\n",
      "48 tensor(653.7551, grad_fn=<MseLossBackward0>)\n",
      "49 tensor(613.3207, grad_fn=<MseLossBackward0>)\n",
      "50 tensor(657.5345, grad_fn=<MseLossBackward0>)\n",
      "51 tensor(590.9451, grad_fn=<MseLossBackward0>)\n",
      "52 tensor(610.2460, grad_fn=<MseLossBackward0>)\n",
      "53 tensor(615.8948, grad_fn=<MseLossBackward0>)\n",
      "54 tensor(634.9984, grad_fn=<MseLossBackward0>)\n",
      "55 tensor(637.3283, grad_fn=<MseLossBackward0>)\n",
      "56 tensor(623.8582, grad_fn=<MseLossBackward0>)\n",
      "57 tensor(601.4048, grad_fn=<MseLossBackward0>)\n",
      "58 tensor(608.1989, grad_fn=<MseLossBackward0>)\n",
      "59 tensor(603.7097, grad_fn=<MseLossBackward0>)\n",
      "60 tensor(595.6606, grad_fn=<MseLossBackward0>)\n",
      "61 tensor(612.4947, grad_fn=<MseLossBackward0>)\n",
      "62 tensor(599.0255, grad_fn=<MseLossBackward0>)\n",
      "63 tensor(636.1901, grad_fn=<MseLossBackward0>)\n",
      "64 tensor(605.4307, grad_fn=<MseLossBackward0>)\n"
     ]
    }
   ],
   "source": [
    "dl = torch.utils.data.DataLoader(td, batch_size = 10, shuffle = True)\n",
    "lm = torch.nn.Linear(x.shape[1], 1)\n",
    "opt = torch.optim.SGD(lm.parameters(), lr = .00025, momentum = .99, weight_decay = .99)\n",
    "loss_fn = torch.nn.MSELoss()\n",
    "\n",
    "\n",
    "for epoch in range(65):\n",
    "    for batchx, batchy in dl:\n",
    "        batchx = batchx.to(torch.float32)\n",
    "        opt.zero_grad()\n",
    "        outputs = lm(batchx)\n",
    "        loss = loss_fn(outputs, batchy)\n",
    "        loss = loss.to(torch.float32)\n",
    "        loss.backward()\n",
    "        opt.step()\n",
    "        \n",
    "    x, y = td[:]\n",
    "    print(epoch,loss_fn(y,lm(x)))\n",
    "    \n",
    "\n",
    "    "
   ]
  }
 ],
 "metadata": {
  "kernelspec": {
   "display_name": "Python 3 (ipykernel)",
   "language": "python",
   "name": "python3"
  },
  "language_info": {
   "codemirror_mode": {
    "name": "ipython",
    "version": 3
   },
   "file_extension": ".py",
   "mimetype": "text/x-python",
   "name": "python",
   "nbconvert_exporter": "python",
   "pygments_lexer": "ipython3",
   "version": "3.9.7"
  }
 },
 "nbformat": 4,
 "nbformat_minor": 5
}
